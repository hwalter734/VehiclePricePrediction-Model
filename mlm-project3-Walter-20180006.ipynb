{
 "cells": [
  {
   "cell_type": "markdown",
   "metadata": {},
   "source": [
    "# Importar librerías"
   ]
  },
  {
   "cell_type": "code",
   "execution_count": 1,
   "metadata": {},
   "outputs": [],
   "source": [
    "import pandas as pd\n",
    "import matplotlib.pyplot as plt \n",
    "import seaborn as sns\n",
    "import numpy as np\n",
    "\n",
    "%matplotlib inline"
   ]
  },
  {
   "cell_type": "markdown",
   "metadata": {},
   "source": [
    "## Cargamos el archivo"
   ]
  },
  {
   "cell_type": "code",
   "execution_count": 2,
   "metadata": {},
   "outputs": [
    {
     "data": {
      "text/html": [
       "<div>\n",
       "<style scoped>\n",
       "    .dataframe tbody tr th:only-of-type {\n",
       "        vertical-align: middle;\n",
       "    }\n",
       "\n",
       "    .dataframe tbody tr th {\n",
       "        vertical-align: top;\n",
       "    }\n",
       "\n",
       "    .dataframe thead th {\n",
       "        text-align: right;\n",
       "    }\n",
       "</style>\n",
       "<table border=\"1\" class=\"dataframe\">\n",
       "  <thead>\n",
       "    <tr style=\"text-align: right;\">\n",
       "      <th></th>\n",
       "      <th>model</th>\n",
       "      <th>year</th>\n",
       "      <th>price</th>\n",
       "      <th>transmission</th>\n",
       "      <th>mileage</th>\n",
       "      <th>fuelType</th>\n",
       "      <th>tax</th>\n",
       "      <th>mpg</th>\n",
       "      <th>engineSize</th>\n",
       "      <th>make</th>\n",
       "    </tr>\n",
       "  </thead>\n",
       "  <tbody>\n",
       "    <tr>\n",
       "      <th>0</th>\n",
       "      <td>Corsa</td>\n",
       "      <td>2018</td>\n",
       "      <td>7885</td>\n",
       "      <td>Manual</td>\n",
       "      <td>9876</td>\n",
       "      <td>Petrol</td>\n",
       "      <td>145.0</td>\n",
       "      <td>55.4</td>\n",
       "      <td>1.4</td>\n",
       "      <td>vauxhall</td>\n",
       "    </tr>\n",
       "    <tr>\n",
       "      <th>1</th>\n",
       "      <td>Corsa</td>\n",
       "      <td>2019</td>\n",
       "      <td>11995</td>\n",
       "      <td>Manual</td>\n",
       "      <td>2500</td>\n",
       "      <td>Petrol</td>\n",
       "      <td>145.0</td>\n",
       "      <td>54.3</td>\n",
       "      <td>1.4</td>\n",
       "      <td>vauxhall</td>\n",
       "    </tr>\n",
       "    <tr>\n",
       "      <th>2</th>\n",
       "      <td>Corsa</td>\n",
       "      <td>2017</td>\n",
       "      <td>9777</td>\n",
       "      <td>Automatic</td>\n",
       "      <td>9625</td>\n",
       "      <td>Petrol</td>\n",
       "      <td>145.0</td>\n",
       "      <td>47.9</td>\n",
       "      <td>1.4</td>\n",
       "      <td>vauxhall</td>\n",
       "    </tr>\n",
       "    <tr>\n",
       "      <th>3</th>\n",
       "      <td>Corsa</td>\n",
       "      <td>2016</td>\n",
       "      <td>8500</td>\n",
       "      <td>Manual</td>\n",
       "      <td>25796</td>\n",
       "      <td>Petrol</td>\n",
       "      <td>30.0</td>\n",
       "      <td>55.4</td>\n",
       "      <td>1.4</td>\n",
       "      <td>vauxhall</td>\n",
       "    </tr>\n",
       "    <tr>\n",
       "      <th>4</th>\n",
       "      <td>Corsa</td>\n",
       "      <td>2019</td>\n",
       "      <td>10000</td>\n",
       "      <td>Manual</td>\n",
       "      <td>3887</td>\n",
       "      <td>Petrol</td>\n",
       "      <td>145.0</td>\n",
       "      <td>43.5</td>\n",
       "      <td>1.4</td>\n",
       "      <td>vauxhall</td>\n",
       "    </tr>\n",
       "  </tbody>\n",
       "</table>\n",
       "</div>"
      ],
      "text/plain": [
       "   model  year  price transmission  mileage fuelType    tax   mpg  engineSize  \\\n",
       "0  Corsa  2018   7885       Manual     9876   Petrol  145.0  55.4         1.4   \n",
       "1  Corsa  2019  11995       Manual     2500   Petrol  145.0  54.3         1.4   \n",
       "2  Corsa  2017   9777    Automatic     9625   Petrol  145.0  47.9         1.4   \n",
       "3  Corsa  2016   8500       Manual    25796   Petrol   30.0  55.4         1.4   \n",
       "4  Corsa  2019  10000       Manual     3887   Petrol  145.0  43.5         1.4   \n",
       "\n",
       "       make  \n",
       "0  vauxhall  \n",
       "1  vauxhall  \n",
       "2  vauxhall  \n",
       "3  vauxhall  \n",
       "4  vauxhall  "
      ]
     },
     "execution_count": 2,
     "metadata": {},
     "output_type": "execute_result"
    }
   ],
   "source": [
    "df = pd.read_csv(\"vehicle_prices.csv\")\n",
    "df.head()"
   ]
  },
  {
   "cell_type": "code",
   "execution_count": 3,
   "metadata": {},
   "outputs": [
    {
     "data": {
      "text/plain": [
       "(108540, 10)"
      ]
     },
     "execution_count": 3,
     "metadata": {},
     "output_type": "execute_result"
    }
   ],
   "source": [
    "df.shape"
   ]
  },
  {
   "cell_type": "markdown",
   "metadata": {},
   "source": [
    "# Análisis de los NA's"
   ]
  },
  {
   "cell_type": "code",
   "execution_count": 4,
   "metadata": {},
   "outputs": [
    {
     "data": {
      "text/plain": [
       "model              0\n",
       "year               0\n",
       "price              0\n",
       "transmission       0\n",
       "mileage            0\n",
       "fuelType           0\n",
       "tax             9353\n",
       "mpg             9353\n",
       "engineSize         0\n",
       "make               0\n",
       "dtype: int64"
      ]
     },
     "execution_count": 4,
     "metadata": {},
     "output_type": "execute_result"
    }
   ],
   "source": [
    "df.isnull().sum()"
   ]
  },
  {
   "cell_type": "markdown",
   "metadata": {},
   "source": [
    "Hay una posibilidad que los NA's entre las dos columnas estén directamente relacionados."
   ]
  },
  {
   "cell_type": "markdown",
   "metadata": {},
   "source": [
    "# Distribución de los datos"
   ]
  },
  {
   "cell_type": "code",
   "execution_count": 5,
   "metadata": {},
   "outputs": [
    {
     "data": {
      "text/plain": [
       "array([[<AxesSubplot:title={'center':'year'}>,\n",
       "        <AxesSubplot:title={'center':'price'}>],\n",
       "       [<AxesSubplot:title={'center':'mileage'}>,\n",
       "        <AxesSubplot:title={'center':'tax'}>],\n",
       "       [<AxesSubplot:title={'center':'mpg'}>,\n",
       "        <AxesSubplot:title={'center':'engineSize'}>]], dtype=object)"
      ]
     },
     "execution_count": 5,
     "metadata": {},
     "output_type": "execute_result"
    },
    {
     "data": {
      "image/png": "[encoded data removed]",
      "text/plain": [
       "<Figure size 1080x1224 with 6 Axes>"
      ]
     },
     "metadata": {
      "needs_background": "light"
     },
     "output_type": "display_data"
    }
   ],
   "source": [
    "df.hist(figsize=(15,17))"
   ]
  },
  {
   "cell_type": "markdown",
   "metadata": {},
   "source": [
    "Ninguna de las columnas cuenta con distribución normal, todas se encuentran sesgadas. Por lo mismo voy a utilizar un StandardScaler para poder volver la distribución normal."
   ]
  },
  {
   "cell_type": "code",
   "execution_count": 6,
   "metadata": {},
   "outputs": [
    {
     "data": {
      "text/plain": [
       "<AxesSubplot:>"
      ]
     },
     "execution_count": 6,
     "metadata": {},
     "output_type": "execute_result"
    },
    {
     "data": {
      "image/png": "[encoded data removed]",
      "text/plain": [
       "<Figure size 1800x720 with 2 Axes>"
      ]
     },
     "metadata": {
      "needs_background": "light"
     },
     "output_type": "display_data"
    }
   ],
   "source": [
    "import missingno as msno\n",
    "msno.matrix(df)"
   ]
  },
  {
   "cell_type": "markdown",
   "metadata": {},
   "source": [
    "Confirmamos la sospecha que los missing values están relacionados, entre ambas columnas. El KNN imputer se puede utilizar cuando existen datos faltantes que están relacionados entre sí. Podríamos simplemente aplicar un mean/median/mode imputer, pero sería menos óptimo para el modelo."
   ]
  },
  {
   "cell_type": "markdown",
   "metadata": {},
   "source": [
    "# Dividir las X's y la Y"
   ]
  },
  {
   "cell_type": "markdown",
   "metadata": {},
   "source": [
    "Quitamos la variable model, dado a que cuenta con numerosos modelos. El problema con esto es que al momento de hacer split la data, corremos riesgo que algunos modelos se encuentren solo en el training set y otros solo en el testing set. Esto puede dar problema al hacer los predictions, ya que no existirían los thetas necesarios para lidiar con los modelos foráneos."
   ]
  },
  {
   "cell_type": "code",
   "execution_count": 7,
   "metadata": {},
   "outputs": [],
   "source": [
    "y = df['price'].copy()\n",
    "df_2 = df.drop(['price','model'], axis=1) #dejar solo las variables X"
   ]
  },
  {
   "cell_type": "markdown",
   "metadata": {},
   "source": [
    "### Splitting Data\n",
    "Separamos el dataset en 70% training y 30% testing, ponemos un random state para reproducibilidad y ponemos el parámetro shuffle como *True*  para que haga shuffle la data"
   ]
  },
  {
   "cell_type": "code",
   "execution_count": 8,
   "metadata": {},
   "outputs": [],
   "source": [
    "from sklearn.model_selection import train_test_split\n",
    "X_train, X_test, y_train, y_test = train_test_split(df_2, y, test_size=0.3, random_state=20, shuffle=True)"
   ]
  },
  {
   "cell_type": "markdown",
   "metadata": {},
   "source": [
    "Separamos las columnas categóricas con las númericas"
   ]
  },
  {
   "cell_type": "code",
   "execution_count": 9,
   "metadata": {},
   "outputs": [],
   "source": [
    "num_col = df_2.select_dtypes(include='number').columns\n",
    "cat_col = df_2.select_dtypes(exclude='number').columns"
   ]
  },
  {
   "cell_type": "code",
   "execution_count": 10,
   "metadata": {},
   "outputs": [
    {
     "data": {
      "text/plain": [
       "Index(['transmission', 'fuelType', 'make'], dtype='object')"
      ]
     },
     "execution_count": 10,
     "metadata": {},
     "output_type": "execute_result"
    }
   ],
   "source": [
    "cat_col"
   ]
  },
  {
   "cell_type": "markdown",
   "metadata": {},
   "source": [
    "# Pipelines\n",
    "Utilizamos pipeline poder aplicar one hot encoding a las categóricas (hace dummify las variables para poder representarse en números y que el modelo de machine learning logre procesarlo), KNN imputer para las dos columnas númericas que tienen NA's, y finalmente un Normalize normalizar la data númerica"
   ]
  },
  {
   "cell_type": "markdown",
   "metadata": {},
   "source": [
    "### Por qué utilizamos normalize y no standard scaler?\n",
    "Sabemos que la mayoría de la data no tiene una forma de campana Gaussiana, por lo cual es más adecuado utilizar el Normalizer. Si la data tuviera una distribución normal, hubieramos utilizado el Standard Scaler"
   ]
  },
  {
   "cell_type": "code",
   "execution_count": 11,
   "metadata": {},
   "outputs": [],
   "source": [
    "from sklearn.pipeline import Pipeline\n",
    "from sklearn.impute import KNNImputer\n",
    "from sklearn.preprocessing import OneHotEncoder\n",
    "from sklearn.preprocessing import Normalizer\n",
    "\n",
    "cat_pipeline = Pipeline([\n",
    "        ('oh_enc', OneHotEncoder())\n",
    "    ])\n",
    "\n",
    "num_pipeline = Pipeline([\n",
    "        ('knn_imputer', KNNImputer()),\n",
    "        ('normalize_data', Normalizer())\n",
    "    ])\n"
   ]
  },
  {
   "cell_type": "markdown",
   "metadata": {},
   "source": [
    "El full pipeline contiene los dos pipelines, como también las columnas objetivo a las que se van a aplicar las transformaciones"
   ]
  },
  {
   "cell_type": "code",
   "execution_count": 12,
   "metadata": {},
   "outputs": [],
   "source": [
    "from sklearn.compose import ColumnTransformer\n",
    "full_pipeline = ColumnTransformer([\n",
    "        (\"cat\", cat_pipeline, cat_col),\n",
    "        (\"num\", num_pipeline, num_col)\n",
    "    ])"
   ]
  },
  {
   "cell_type": "code",
   "execution_count": 13,
   "metadata": {},
   "outputs": [
    {
     "name": "stdout",
     "output_type": "stream",
     "text": [
      "(75978, 23)\n"
     ]
    }
   ],
   "source": [
    "X_train_processed = full_pipeline.fit_transform(X_train)\n",
    "print(X_train_processed.shape)"
   ]
  },
  {
   "cell_type": "code",
   "execution_count": 14,
   "metadata": {},
   "outputs": [
    {
     "name": "stdout",
     "output_type": "stream",
     "text": [
      "(32562, 23)\n"
     ]
    }
   ],
   "source": [
    "X_test_processed = full_pipeline.fit_transform(X_test)\n",
    "print(X_test_processed.shape)"
   ]
  },
  {
   "cell_type": "markdown",
   "metadata": {},
   "source": [
    "# Models\n",
    "Aplicaremos varios modelos, los modelos serán entrenados con el *X_train_processed* set. Después se evaluará la métrica *mean absolute error* sacando las predicciones que saque el modelo con el input de *X_test_processed* y comparándolas con el *y_test*."
   ]
  },
  {
   "cell_type": "markdown",
   "metadata": {},
   "source": [
    "## Linear Regression\n",
    "Ponemos *fit_intercept=True* para utilizar el intercepto en los cálculos, y ponemos *n_jobs=-1* para que el modelo utilice todos los núcleos de la computadora al procesar la información."
   ]
  },
  {
   "cell_type": "code",
   "execution_count": 15,
   "metadata": {},
   "outputs": [],
   "source": [
    "from sklearn.linear_model import LinearRegression\n",
    "from sklearn.metrics import mean_absolute_error\n",
    "lin_reg = LinearRegression(fit_intercept=True, n_jobs=-1)"
   ]
  },
  {
   "cell_type": "code",
   "execution_count": 16,
   "metadata": {},
   "outputs": [
    {
     "name": "stdout",
     "output_type": "stream",
     "text": [
      "Mean Absolute Error: 3438.030372827222\n"
     ]
    }
   ],
   "source": [
    "lin_reg.fit(X_train_processed, y_train)\n",
    "y_test_pred = lin_reg.predict(X_test_processed)\n",
    "\n",
    "print('Mean Absolute Error:', mean_absolute_error(y_test, y_test_pred))"
   ]
  },
  {
   "cell_type": "markdown",
   "metadata": {},
   "source": [
    "El error absoluto está alto, pero hay que analizar los demás modelos para ver si se encuentra relativamente alto o bajo."
   ]
  },
  {
   "cell_type": "markdown",
   "metadata": {},
   "source": [
    "## Decision Tree Regressor\n",
    "El parámetro de *splitter* sirve para escoger de qué manera se divide el árbol. Normalmente se hace con el método *best* que sería por medio del coeficiente gini que se establecen las divisiones. Sin embargo, existe la opción de hacerlo random puesto que a veces es mejor un método totalmente aleatorio para poder utilizar en la regresión del decision tree. La opción de *max_depth* significa qué tan profundo puede ser el árbol / cuántos niveles puede tener. Dejamos un intervalo de 5,10,15 porque si incrementamos la profundidad corremos riesgo a que el decision tree haga overfit. Finalmente el *min_samples_leaf* se refiere a la cantidad de observaciones que deben de estar presentes en el leaf node para poder considerarse un leaf node.\n",
    "El *random_state* se le puede pasar cualquier número, simplemente es para objetivos de reproducibilidad del modelo. El *criterion* lo dejamos como *mae* que es Mean Absolute Error. Nuestra métrica de decisión de modelo es *Mean Absolute Error* por lo que es adecuado utilizar el mismo. El *CV* se refiere a la cantidad de cross-validations o k-folds que deseamos realizar, lo mantenemos en 3 por temas de tiempo y poder computacional. *Verbose* con valor de 1, como lo dice en la documentación de sklearn despliega: \"the computation time for each fold and parameter candidate is displayed\". *n_jobs* con valor -1 es para que el modelo utilice todos los procesadores de la computadora al momento de procesar el modelo. *return_train_score* lo dejamos como True, sin embargo esto solo se refleja cuando uno saca *cv_results* para que incluya los training scores."
   ]
  },
  {
   "cell_type": "code",
   "execution_count": 17,
   "metadata": {},
   "outputs": [
    {
     "name": "stdout",
     "output_type": "stream",
     "text": [
      "Fitting 3 folds for each of 18 candidates, totalling 54 fits\n"
     ]
    },
    {
     "data": {
      "text/plain": [
       "GridSearchCV(cv=3,\n",
       "             estimator=DecisionTreeRegressor(criterion='mae', random_state=20),\n",
       "             n_jobs=-1,\n",
       "             param_grid=[{'max_depth': [5, 10, 15],\n",
       "                          'min_samples_leaf': [3, 10, 12],\n",
       "                          'splitter': ['best', 'random']}],\n",
       "             return_train_score=True, scoring='neg_mean_absolute_error',\n",
       "             verbose=1)"
      ]
     },
     "execution_count": 17,
     "metadata": {},
     "output_type": "execute_result"
    }
   ],
   "source": [
    "from sklearn.tree import DecisionTreeRegressor\n",
    "from sklearn.model_selection import GridSearchCV\n",
    "param_grid = [ {\n",
    "                'splitter': ['best','random'],\n",
    "                'max_depth': [5,10,15], 'min_samples_leaf': [3, 10, 12]\n",
    "}\n",
    "             ]\n",
    "\n",
    "# create instance\n",
    "dtree_r = DecisionTreeRegressor(random_state=20, criterion='mae')\n",
    "\n",
    "# search for best solution from combinations using a defined score function\n",
    "grid_search = GridSearchCV(dtree_r, param_grid, cv=3,\n",
    "                           scoring='neg_mean_absolute_error',\n",
    "                           return_train_score=True,\n",
    "                           verbose=1,n_jobs=-1)\n",
    "\n",
    "grid_search.fit(X_train_processed, y_train)"
   ]
  },
  {
   "cell_type": "code",
   "execution_count": 18,
   "metadata": {},
   "outputs": [
    {
     "data": {
      "text/plain": [
       "DecisionTreeRegressor(criterion='mae', max_depth=15, min_samples_leaf=10,\n",
       "                      random_state=20)"
      ]
     },
     "execution_count": 18,
     "metadata": {},
     "output_type": "execute_result"
    }
   ],
   "source": [
    "dtree_best = grid_search.best_estimator_\n",
    "dtree_best"
   ]
  },
  {
   "cell_type": "code",
   "execution_count": 19,
   "metadata": {},
   "outputs": [
    {
     "data": {
      "text/plain": [
       "-2501.431243254626"
      ]
     },
     "execution_count": 19,
     "metadata": {},
     "output_type": "execute_result"
    }
   ],
   "source": [
    "grid_search.best_score_"
   ]
  },
  {
   "cell_type": "markdown",
   "metadata": {},
   "source": [
    "Este modelo es el que ha tenido mejor performance que los demás, pero tenemos que ver el resto para decidir el modelo a utilizar al final."
   ]
  },
  {
   "cell_type": "markdown",
   "metadata": {},
   "source": [
    "## AdaBoostRegressor\n",
    "El método de boosting, se refiere a la forma de entrenar modelos de una manera secuencial. Es decir, que va aprende a base de las etapas anteriores. Corrigiendo los errores de los procesos anteriores para tener un modelo más óptimo. Boosting incluye varias etapas de training, y al final se utiliza un group weighted voting para clasificar/hacer regressions. El *learning_rate* en términos simples, detalla qué tan rápido o lento aprende el modelo. Un valor más cercano a 1 aprende más rápido, y si es más alejado de 1 aprende más lento. Los *n_estimators* se refiere al número de sequential trees que se realizarán en el modelo. (Se refiere a árboles ya que el default estimator del modelo es decision tree. El parámetro de *loss* simplemente detalla cómo va a penalizar los errores del modelo, linear siendo el más permisivo y exponential el que más penaliza. El *random_state* se le puede pasar cualquier número, simplemente es para objetivos de reproducibilidad del modelo. El *CV* se refiere a la cantidad de cross-validations o k-folds que deseamos realizar, lo mantenemos en 3 por temas de tiempo y poder computacional. *Verbose* con valor de 1, como lo dice en la documentación de sklearn despliega: \"the computation time for each fold and parameter candidate is displayed\". *n_jobs* con valor -1 es para que el modelo utilice todos los procesadores de la computadora al momento de procesar el modelo. *return_train_score* lo dejamos como True, sin embargo esto solo se refleja cuando uno saca *cv_results* para que incluya los training scores."
   ]
  },
  {
   "cell_type": "code",
   "execution_count": 20,
   "metadata": {},
   "outputs": [
    {
     "name": "stdout",
     "output_type": "stream",
     "text": [
      "Fitting 3 folds for each of 18 candidates, totalling 54 fits\n"
     ]
    },
    {
     "name": "stderr",
     "output_type": "stream",
     "text": [
      "C:\\Users\\hansr\\Documents\\UFM\\A4_S7\\Machine_Learning_Models\\mlm_env\\lib\\site-packages\\sklearn\\model_selection\\_search.py:918: UserWarning: One or more of the test scores are non-finite: [ -4177.7550008   -4177.20038914             nan             nan\n",
      "  -4177.8342197   -4178.30321437  -4210.04460233  -4333.73436701\n",
      "             nan             nan  -4061.60551693  -4282.17852806\n",
      "  -7368.35461623  -9891.83593348             nan             nan\n",
      "  -8134.38026669 -11445.28419913]\n",
      "  warnings.warn(\n",
      "C:\\Users\\hansr\\Documents\\UFM\\A4_S7\\Machine_Learning_Models\\mlm_env\\lib\\site-packages\\sklearn\\model_selection\\_search.py:918: UserWarning: One or more of the train scores are non-finite: [ -4172.61745983  -4173.24118387             nan             nan\n",
      "  -4172.17243076  -4172.64887222  -4196.79373248  -4316.18856614\n",
      "             nan             nan  -4056.64142396  -4270.34407869\n",
      "  -7358.76225475  -9885.23970936             nan             nan\n",
      "  -8141.53424871 -11441.92992414]\n",
      "  warnings.warn(\n"
     ]
    },
    {
     "data": {
      "text/plain": [
       "GridSearchCV(cv=3, estimator=AdaBoostRegressor(random_state=20), n_jobs=-1,\n",
       "             param_grid=[{'learning_rate': [0.001, 0.1, 1],\n",
       "                          'loss': ['linear', 'squared', 'exponential'],\n",
       "                          'n_estimators': [50, 100]}],\n",
       "             return_train_score=True, scoring='neg_mean_absolute_error',\n",
       "             verbose=1)"
      ]
     },
     "execution_count": 20,
     "metadata": {},
     "output_type": "execute_result"
    }
   ],
   "source": [
    "from sklearn.ensemble import AdaBoostRegressor\n",
    "param_grid = [ {\n",
    "                'learning_rate': [0.001,0.1,1],\n",
    "                'n_estimators': [50,100],\n",
    "                'loss': ['linear','squared','exponential']\n",
    "}\n",
    "             ]\n",
    "# create instance\n",
    "ada_r = AdaBoostRegressor(random_state=20)\n",
    "\n",
    "# search for best solution from combinations using a defined score function\n",
    "grid_search = GridSearchCV(ada_r, param_grid, cv=3,\n",
    "                           scoring='neg_mean_absolute_error',\n",
    "                           return_train_score=True,\n",
    "                           verbose=1,n_jobs=-1)\n",
    "\n",
    "grid_search.fit(X_train_processed, y_train)"
   ]
  },
  {
   "cell_type": "code",
   "execution_count": 21,
   "metadata": {},
   "outputs": [
    {
     "data": {
      "text/plain": [
       "AdaBoostRegressor(learning_rate=0.1, loss='exponential', random_state=20)"
      ]
     },
     "execution_count": 21,
     "metadata": {},
     "output_type": "execute_result"
    }
   ],
   "source": [
    "ada_best = grid_search.best_estimator_\n",
    "ada_best"
   ]
  },
  {
   "cell_type": "code",
   "execution_count": 22,
   "metadata": {},
   "outputs": [
    {
     "data": {
      "text/plain": [
       "-4061.6055169251717"
      ]
     },
     "execution_count": 22,
     "metadata": {},
     "output_type": "execute_result"
    }
   ],
   "source": [
    "grid_search.best_score_"
   ]
  },
  {
   "cell_type": "markdown",
   "metadata": {},
   "source": [
    "Este modelo ha sido el peor de los que llevamos hasta ahorita, ya que tiene el Mean Absolute Error más alto."
   ]
  },
  {
   "cell_type": "markdown",
   "metadata": {},
   "source": [
    "## GradientBoostRegressor\n",
    "El *random_state* se le puede pasar cualquier número, simplemente es para objetivos de reproducibilidad del modelo. El parámetro *sub_sample* lo dejamos en 0.8, si el valor es menor a cero hace que el modelo reduzca variance/overfitting. *Max_features* lo establecemos como 7, puesto que nuestro dataset simplemente tiene 8 features. Dejamos el número más bajo que el total de features para poder reducir los features más relevantes al modelo."
   ]
  },
  {
   "cell_type": "code",
   "execution_count": 23,
   "metadata": {},
   "outputs": [
    {
     "name": "stdout",
     "output_type": "stream",
     "text": [
      "Mean Absolute Error: 2894.147156389215\n"
     ]
    }
   ],
   "source": [
    "from sklearn.ensemble import GradientBoostingRegressor\n",
    "\n",
    "gradient_r = GradientBoostingRegressor(random_state=20, subsample=0.8, max_features=7)\n",
    "\n",
    "gradient_r.fit(X_train_processed, y_train)\n",
    "y_test_pred = gradient_r.predict(X_test_processed)\n",
    "print('Mean Absolute Error:', mean_absolute_error(y_test, y_test_pred))"
   ]
  },
  {
   "cell_type": "markdown",
   "metadata": {},
   "source": [
    "El modelo tiene un performance similar al decision tree regressor, por lo que estos dos han sido los mejores hasta ahorita."
   ]
  },
  {
   "cell_type": "markdown",
   "metadata": {},
   "source": [
    "## KNN Neighbours Regressor \n",
    "El modelo trabaja con la metodología de KNN neighbours, donde las predicciones son realizadas con los vecinos a los que se encuentra más cercano el valor de predicción. El parámetro de *weights* puede tomar forma como uniform, donde toma en cuenta los pesos de todos los neighbors de igual manera, o distance que mientras más cercano sea el neighbor va a tener más influencia que los que se encuentren más lejos. El *algorithm* lo dejamos en auto, el modelo escoge entre *kd_tree*, *ball_tree* o *brute*. Son varios algoritmos que utiliza el modelo y dependiendo de los valores que se le pasen en la función de *fit*, escoge el más apropiado. El *CV* se refiere a la cantidad de cross-validations o k-folds que deseamos realizar, lo mantenemos en 3 por temas de tiempo y poder computacional. *Verbose* con valor de 1, como lo dice en la documentación de sklearn despliega: \"the computation time for each fold and parameter candidate is displayed\". *n_jobs* con valor -1 es para que el modelo utilice todos los procesadores de la computadora al momento de procesar el modelo. *return_train_score* lo dejamos como True, sin embargo esto solo se refleja cuando uno saca *cv_results* para que incluya los training scores."
   ]
  },
  {
   "cell_type": "code",
   "execution_count": 24,
   "metadata": {},
   "outputs": [
    {
     "name": "stdout",
     "output_type": "stream",
     "text": [
      "Fitting 3 folds for each of 2 candidates, totalling 6 fits\n"
     ]
    },
    {
     "data": {
      "text/plain": [
       "GridSearchCV(cv=3, estimator=KNeighborsRegressor(), n_jobs=-1,\n",
       "             param_grid=[{'weights': ['uniform', 'distance']}],\n",
       "             return_train_score=True, scoring='neg_mean_absolute_error',\n",
       "             verbose=1)"
      ]
     },
     "execution_count": 24,
     "metadata": {},
     "output_type": "execute_result"
    }
   ],
   "source": [
    "from sklearn.neighbors import KNeighborsRegressor\n",
    "param_grid = [ {\n",
    "                'weights': ['uniform','distance']      \n",
    "}\n",
    "             ]\n",
    "# create instance\n",
    "knn_r = KNeighborsRegressor(algorithm='auto')\n",
    "\n",
    "# search for best solution from combinations using a defined score function\n",
    "grid_search = GridSearchCV(knn_r, param_grid, cv=3,\n",
    "                           scoring='neg_mean_absolute_error',\n",
    "                           return_train_score=True,\n",
    "                           verbose=1,n_jobs=-1)\n",
    "\n",
    "grid_search.fit(X_train_processed, y_train)"
   ]
  },
  {
   "cell_type": "code",
   "execution_count": 25,
   "metadata": {},
   "outputs": [
    {
     "data": {
      "text/plain": [
       "KNeighborsRegressor(weights='distance')"
      ]
     },
     "execution_count": 25,
     "metadata": {},
     "output_type": "execute_result"
    }
   ],
   "source": [
    "knn_best = grid_search.best_estimator_\n",
    "knn_best"
   ]
  },
  {
   "cell_type": "code",
   "execution_count": 26,
   "metadata": {},
   "outputs": [
    {
     "data": {
      "text/plain": [
       "-3109.4806694108515"
      ]
     },
     "execution_count": 26,
     "metadata": {},
     "output_type": "execute_result"
    }
   ],
   "source": [
    "grid_search.best_score_"
   ]
  },
  {
   "cell_type": "markdown",
   "metadata": {},
   "source": [
    "# Conclusión\n",
    "El modelo con mejor performance de los demostrados anteriormente es *DecisionTreeRegressor* con un *MAE* de 2,501. Se podría experimentar más a fondo con los demás modelos y parámetros, pero por temas de poder computacional y tiempo nos vamos a quedar con este modelo. Previo a la finalización de este notebook, probé los GridSearchCV con más parámetros en los demás modelos pero se tardaba demasiado en procesar los resultados, incluso horas y el modelo no había finalizado."
   ]
  }
 ],
 "metadata": {
  "kernelspec": {
   "display_name": "mlm_env",
   "language": "python",
   "name": "mlm_env"
  },
  "language_info": {
   "codemirror_mode": {
    "name": "ipython",
    "version": 3
   },
   "file_extension": ".py",
   "mimetype": "text/x-python",
   "name": "python",
   "nbconvert_exporter": "python",
   "pygments_lexer": "ipython3",
   "version": "3.8.6"
  }
 },
 "nbformat": 4,
 "nbformat_minor": 4
}
